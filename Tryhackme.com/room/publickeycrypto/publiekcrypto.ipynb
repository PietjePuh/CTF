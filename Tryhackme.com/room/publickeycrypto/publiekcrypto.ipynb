{
 "cells": [
  {
   "cell_type": "markdown",
   "id": "4e7b0585",
   "metadata": {},
   "source": [
    "# Question 1\n",
    "## Knowing that p = 4391 and q = 6659, what is n?\n",
    "\n",
    "<details>\n",
    "<summary>💡 Explanation</summary>\n",
    "\n",
    "To compute **n** in RSA, you multiply the two prime numbers:\n",
    "\n",
    "\\[\n",
    "n = p \\times q = 4391 \\times 6659 = 29243869\n",
    "\\]\n",
    "\n",
    "This value of **n** is used as part of the public and private keys in RSA encryption.\n",
    "\n",
    "</details>"
   ]
  },
  {
   "cell_type": "code",
   "execution_count": 6,
   "id": "df3ca7b5",
   "metadata": {},
   "outputs": [
    {
     "name": "stdout",
     "output_type": "stream",
     "text": [
      "29239669\n"
     ]
    }
   ],
   "source": [
    "print(4391 * 6659)"
   ]
  },
  {
   "cell_type": "markdown",
   "id": "6a48d12f",
   "metadata": {},
   "source": [
    "# Knowing that p = 4391 and q = 6659. What is ϕ(n)?"
   ]
  },
  {
   "cell_type": "code",
   "execution_count": 4,
   "id": "be363432",
   "metadata": {},
   "outputs": [
    {
     "name": "stdout",
     "output_type": "stream",
     "text": [
      "ϕ(n) = (4391 - 1) * (6659 - 1) = 29228620\n"
     ]
    }
   ],
   "source": [
    "# phi_calculator.py\n",
    "\n",
    "# Given prime numbers\n",
    "p = 4391\n",
    "q = 6659\n",
    "\n",
    "# Calculate phi(n)\n",
    "phi_n = (p - 1) * (q - 1)\n",
    "\n",
    "# Output the result\n",
    "print(f\"ϕ(n) = ({p} - 1) * ({q} - 1) = {phi_n}\")"
   ]
  },
  {
   "cell_type": "markdown",
   "id": "f396d002",
   "metadata": {},
   "source": [
    "# 1. Clone de repo\n",
    "git clone https://github.com/Ganapati/RsaCtfTool.git\n",
    "\n",
    "# 2. Ga naar de map\n",
    "cd RsaCtfTool\n",
    "\n",
    "# 3. Installeer de requirements\n",
    "pip install -r requirements.txt\n",
    "# of als je Python3 gebruikt:\n",
    "pip3 install -r requirements.txt\n"
   ]
  }
 ],
 "metadata": {
  "kernelspec": {
   "display_name": "Python 3",
   "language": "python",
   "name": "python3"
  },
  "language_info": {
   "codemirror_mode": {
    "name": "ipython",
    "version": 3
   },
   "file_extension": ".py",
   "mimetype": "text/x-python",
   "name": "python",
   "nbconvert_exporter": "python",
   "pygments_lexer": "ipython3",
   "version": "3.12.1"
  }
 },
 "nbformat": 4,
 "nbformat_minor": 5
}
