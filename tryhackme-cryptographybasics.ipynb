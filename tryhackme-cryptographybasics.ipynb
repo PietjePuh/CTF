# 🧠 TryHackMe Walkthrough – [Room Title]

"""
Author: PietjePuh
Date: YYYY-MM-DD
Room link: https://tryhackme.com/room/ROOMNAME
"""

# 📌 Room Overview
# Korte samenvatting van de room

# 🎯 Objectives
# - [ ] Objective 1
# - [ ] Objective 2
# - [ ] Objective 3

# ⚙️ Setup
# | Setting    | Value    |
# |------------|----------|
# | Target IP  |          |
# | Difficulty |          |
# | OS         |          |
# | Category   |          |
# | Tools      |          |

# 🤩 Task 1
# 💡 Explanation:
# Beschrijf wat je hier moet doen en waarom

# 💻 Commands/code
# Bijvoorbeeld een nmap scan uitvoeren:
# !nmap -A -T4 10.10.10.10

# Of python script
# from scapy.all import *
# ...

# ✅ Answer:
# flag{}

# Herhaal per task:
# 🤩 Task 2, etc.

# 📜 Summary
# Korte recap van de belangrijkste punten

# 🎓 Lessons Learned
# Wat heb je geleerd?
# Nieuwe tools of technieken?
# Fouten/opvallende dingen?
